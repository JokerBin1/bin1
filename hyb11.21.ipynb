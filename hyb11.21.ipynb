{
 "cells": [
  {
   "cell_type": "code",
   "execution_count": 119,
   "id": "0e8e8f8a-30a2-413a-ae22-6876ccd8624c",
   "metadata": {},
   "outputs": [
    {
     "name": "stdout",
     "output_type": "stream",
     "text": [
      "VideoObject(id='56711732171808395-9221301965202696173', model='cogvideox', video_result=None, task_status='PROCESSING', request_id='-9221301965202696174')\n"
     ]
    }
   ],
   "source": [
    "from zhipuai import ZhipuAI\n",
    "client = ZhipuAI(api_key=\"314ffb1993c488128a212c4f8e0efb47.1ufhSzubdqCenRCk\")\n",
    "\n",
    "response = client.videos.generations(\n",
    "    model = \"cogvideox\",\n",
    "    prompt=\"一群人在公园草地上野餐，旁边有人在和狗狗玩飞盘\"\n",
    ")\n",
    "print(response)"
   ]
  },
  {
   "cell_type": "code",
   "execution_count": 140,
   "id": "3aa46d15-6cf6-4cdc-960d-25e80a40d036",
   "metadata": {},
   "outputs": [
    {
     "name": "stdout",
     "output_type": "stream",
     "text": [
      "VideoObject(id=None, model='cogvideox', video_result=[VideoResult(url='https://aigc-files.bigmodel.cn/api/cogvideo/cfa85b82-a7e8-11ef-bd78-9ee7942420ea_0.mp4', cover_image_url='https://aigc-files.bigmodel.cn/api/cogvideo/cfa85b82-a7e8-11ef-bd78-9ee7942420ea_cover_0.jpeg')], task_status='SUCCESS', request_id='-9221301965202696174')\n"
     ]
    }
   ],
   "source": [
    "from zhipuai import ZhipuAI\n",
    "client = ZhipuAI(api_key=\"314ffb1993c488128a212c4f8e0efb47.1ufhSzubdqCenRCk\")\n",
    "\n",
    "response = client.videos.retrieve_videos_result(\n",
    "    id=\"56711732171808395-9221301965202696173\"\n",
    ")\n",
    "print(response)"
   ]
  },
  {
   "cell_type": "code",
   "execution_count": null,
   "id": "0aeb98c0-f0d4-4a19-9b7a-dfaef71531d3",
   "metadata": {},
   "outputs": [],
   "source": []
  },
  {
   "cell_type": "code",
   "execution_count": 141,
   "id": "9777ec59-c60c-4aab-beab-55c6d002f694",
   "metadata": {},
   "outputs": [
    {
     "name": "stdout",
     "output_type": "stream",
     "text": [
      "VideoObject(id='56711732171808395-9221298529227908839', model='cogvideox', video_result=None, task_status='PROCESSING', request_id='-9221298529227908840')\n"
     ]
    }
   ],
   "source": [
    "# 图片生成视频\n",
    "from zhipuai import ZhipuAI\n",
    "client = ZhipuAI(api_key=\"314ffb1993c488128a212c4f8e0efb47.1ufhSzubdqCenRCk\") # 请填写您自己的APIKey\n",
    "response = client.videos.generations(\n",
    "    model=\"cogvideox\",\n",
    "    image_url ='https://img1.baidu.com/it/u=2731313568,1710612389&fm=253&fmt=auto&app=138&f=JPEG?w=800&h=1428',\n",
    "    prompt=\"图片生成视频：星空能流动\")\n",
    "\n",
    "print(response)"
   ]
  },
  {
   "cell_type": "code",
   "execution_count": 196,
   "id": "daa98225-7939-435b-b2b2-0a3fa3890ef4",
   "metadata": {},
   "outputs": [
    {
     "name": "stdout",
     "output_type": "stream",
     "text": [
      "VideoObject(id='56711732171808395-9221298529227908839', model='cogvideox', video_result=None, task_status='PROCESSING', request_id='-9221298529227908840')\n"
     ]
    }
   ],
   "source": [
    "from zhipuai import ZhipuAI\n",
    "client = ZhipuAI(api_key=\"314ffb1993c488128a212c4f8e0efb47.1ufhSzubdqCenRCk\") # 请填写您自己的APIKey\n",
    "\n",
    "response = client.videos.retrieve_videos_result( \n",
    "    id=\"56711732171808395-9221298529227908839\" \n",
    ")\n",
    "print (response)"
   ]
  },
  {
   "cell_type": "code",
   "execution_count": null,
   "id": "6c03436c-395a-46c1-8a0b-60b491d3c34b",
   "metadata": {},
   "outputs": [],
   "source": []
  },
  {
   "cell_type": "code",
   "execution_count": null,
   "id": "3eaa5487-3b68-4a47-ad49-52a2780fe3a3",
   "metadata": {},
   "outputs": [],
   "source": []
  }
 ],
 "metadata": {
  "kernelspec": {
   "display_name": "Python 3 (ipykernel)",
   "language": "python",
   "name": "python3"
  },
  "language_info": {
   "codemirror_mode": {
    "name": "ipython",
    "version": 3
   },
   "file_extension": ".py",
   "mimetype": "text/x-python",
   "name": "python",
   "nbconvert_exporter": "python",
   "pygments_lexer": "ipython3",
   "version": "3.9.7"
  }
 },
 "nbformat": 4,
 "nbformat_minor": 5
}
